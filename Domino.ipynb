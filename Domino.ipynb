{
  "cells": [
    {
      "cell_type": "markdown",
      "metadata": {
        "id": "view-in-github",
        "colab_type": "text"
      },
      "source": [
        "<a href=\"https://colab.research.google.com/github/Rick0312/Domino/blob/main/Domino.ipynb\" target=\"_parent\"><img src=\"https://colab.research.google.com/assets/colab-badge.svg\" alt=\"Open In Colab\"/></a>"
      ]
    },
    {
      "cell_type": "code",
      "source": [
        "from collections import deque\n",
        "import random\n",
        "\n",
        "class Domino():\n",
        "\n",
        "    def __init__(self, jugadores):\n",
        "        self.domino = deque()\n",
        "        self.jugadores = jugadores\n",
        "        # self.numFichas = jugadores*7\n",
        "        self.fichas = deque()\n",
        "        self.jugadores = [[] for i in range(4)]\n",
        "        self.posicion_jugador = random.randrange(4)\n",
        "\n",
        "    def repartir_fichas(self):\n",
        "        for i in range(7):\n",
        "            for j in range(i,7):\n",
        "                self.fichas.append([i,j])\n",
        "        \n",
        "        random.shuffle(self.fichas)\n",
        "\n",
        "        for i in range(7):\n",
        "            self.jugadores[0].append(self.fichas.popleft())\n",
        "            self.jugadores[1].append(self.fichas.popleft())\n",
        "            self.jugadores[2].append(self.fichas.popleft())\n",
        "            self.jugadores[3].append(self.fichas.popleft())\n",
        "        \n",
        "        for jugador in self.jugadores:\n",
        "            jugador.sort()\n",
        "\n",
        "    def jugador_real(self):\n",
        "        turno = random.randint(4)\n",
        "        jugada = list(map(int,input().split()))\n",
        "        \n",
        "    def iniciar_juego(self):\n",
        "        for k in range(len(self.jugadores)):\n",
        "            objetivo = [6,6]\n",
        "            i = 0\n",
        "            j = len(self.jugadores[k]) - 1\n",
        "            while i <= j:\n",
        "                p = (i+j)//2\n",
        "                val = self.jugadores[k][p]\n",
        "                if val == objetivo:\n",
        "                    return self.jugadores[k].pop()\n",
        "                elif val < objetivo:\n",
        "                    i = p + 1\n",
        "                else:\n",
        "                    j = p - 1\n",
        "\n",
        "    def estado_juego(self):\n",
        "        print(f\"Dominó: {self.domino}\\nJugadores: {[len(jugador) for jugador in self.jugadores]}\")\n",
        "\n",
        "    def jugar(self):\n",
        "        self.repartir_fichas()\n",
        "        val1 = self.iniciar_juego()\n",
        "        self.domino.append(val1)\n",
        "        self.estado_juego()\n",
        "        while True:\n",
        "            self.estado_juego()\n",
        "            izq = self.domino[0]\n",
        "            der = self.domino[-1]\n",
        "            break\n",
        "\n",
        "    \n",
        "            \n",
        "\n",
        "\n",
        "            \n"
      ],
      "metadata": {
        "id": "BmUU6p7VI38l"
      },
      "execution_count": 16,
      "outputs": []
    },
    {
      "cell_type": "code",
      "source": [
        "objeto = Domino(4)\n",
        "print(objeto.posicion_jugador)\n",
        "\n",
        "\n",
        "objeto.jugar()"
      ],
      "metadata": {
        "id": "fIEDU8r2Kv71",
        "colab": {
          "base_uri": "https://localhost:8080/"
        },
        "outputId": "e8a181b1-c6cf-4b40-8ff3-f8f6db630604"
      },
      "execution_count": 24,
      "outputs": [
        {
          "output_type": "stream",
          "name": "stdout",
          "text": [
            "3\n",
            "Dominó: deque([[6, 6]])\n",
            "Jugadores: [7, 7, 6, 7]\n"
          ]
        }
      ]
    },
    {
      "cell_type": "code",
      "source": [
        "print(objeto.jugadores)\n"
      ],
      "metadata": {
        "colab": {
          "base_uri": "https://localhost:8080/"
        },
        "id": "4HLzT-_DK6nQ",
        "outputId": "629c103c-d50e-401d-84b9-fef8247d264d"
      },
      "execution_count": 25,
      "outputs": [
        {
          "output_type": "stream",
          "name": "stdout",
          "text": [
            "[[[0, 1], [1, 5], [2, 5], [3, 4], [4, 4], [4, 6], [5, 6]], [[0, 2], [0, 4], [0, 5], [0, 6], [1, 1], [1, 2], [2, 4]], [[0, 0], [0, 3], [1, 3], [1, 6], [2, 2], [3, 5]], [[1, 4], [2, 3], [2, 6], [3, 3], [3, 6], [4, 5], [5, 5]]]\n"
          ]
        }
      ]
    },
    {
      "cell_type": "code",
      "source": [],
      "metadata": {
        "id": "Z8c7Ic2kK7Y2"
      },
      "execution_count": null,
      "outputs": []
    }
  ],
  "metadata": {
    "colab": {
      "provenance": [],
      "authorship_tag": "ABX9TyPKY88xEXXnaQSJZSLWA0FP",
      "include_colab_link": true
    },
    "kernelspec": {
      "display_name": "Python 3",
      "name": "python3"
    },
    "language_info": {
      "name": "python"
    }
  },
  "nbformat": 4,
  "nbformat_minor": 0
}